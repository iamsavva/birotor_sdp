{
 "cells": [
  {
   "cell_type": "code",
   "execution_count": 1,
   "metadata": {},
   "outputs": [],
   "source": [
    "import typing as T\n",
    "\n",
    "import numpy as np\n",
    "import numpy.typing as npt\n",
    "import scipy as sp\n",
    "\n",
    "from matplotlib import pyplot as plt\n",
    "import matplotlib.patches as patches\n",
    "\n",
    "from pydrake.solvers import (\n",
    "    MathematicalProgram,\n",
    "    MathematicalProgramResult,\n",
    "    Solve,\n",
    "    SolverOptions,\n",
    "    CommonSolverOption, \n",
    "    IpoptSolver,\n",
    "    GurobiSolver\n",
    ")\n",
    "from pydrake.symbolic import Polynomial, Variable, Variables, Evaluate\n",
    "from sdp import create_sdp_relaxation, _get_sol_from_svd\n",
    "\n",
    "from pydrake.math import eq, le, ge\n",
    "\n",
    "from util import timeit, YAY, WARN, INFO, ERROR\n",
    "\n",
    "import math\n",
    "from tqdm import tqdm\n",
    "\n",
    "import matplotlib.pyplot as plt\n",
    "import mpld3\n",
    "import numpy as np\n",
    "from IPython.display import HTML, display\n",
    "from pydrake.all import  DiagramBuilder \n",
    "from pydrake.solvers import MathematicalProgram, Solve\n",
    "\n",
    "# from underactuated import ConfigureParser, running_as_notebook\n",
    "from underactuated import running_as_notebook\n",
    "from underactuated.quadrotor2d import Quadrotor2D, Quadrotor2DVisualizer\n",
    "\n",
    "if running_as_notebook:\n",
    "    mpld3.enable_notebook()\n",
    "\n",
    "from enum import Enum\n",
    "from typing import List, Tuple\n",
    "\n",
    "import numpy as np\n",
    "import numpy.typing as npt\n",
    "import pydrake.symbolic as sym\n",
    "from pydrake.math import eq, ge\n",
    "from pydrake.solvers import (\n",
    "    Binding,\n",
    "    LinearConstraint,\n",
    "    LinearEqualityConstraint,\n",
    "    MathematicalProgram,\n",
    "    Solve,\n",
    ")\n",
    "\n",
    "from utilities import unit_vector\n",
    "\n",
    "from sdp import (\n",
    "    _collect_bounding_box_constraints, _quadratic_cost_binding_to_homogenuous_form, _quadratic_cost_binding_to_homogenuous_form, _linear_bindings_to_homogenuous_form,\n",
    "    _generic_constraint_bindings_to_polynomials, _assert_max_degree, _construct_symmetric_matrix_from_triang, _generic_constraint_binding_to_polynomials,\n",
    "    _get_monomial_coeffs, _get_sol_from_svd, _linear_binding_to_expressions, _quadratic_polynomial_to_homoenuous_form, \n",
    "    _generic_constraint_bindings_to_polynomials,\n",
    ")\n",
    "from sdp_birotor import get_solution_from_X, solve_sdp_birotor"
   ]
  },
  {
   "cell_type": "code",
   "execution_count": 2,
   "metadata": {},
   "outputs": [],
   "source": [
    "def add_constraints_to_psd_mat_from_prog(prog:MathematicalProgram, relaxed_prog:MathematicalProgram, X:npt.NDArray, multiply_equality_constraints:bool):\n",
    "    DEGREE_QUADRATIC = 2  # We are only relaxing (non-convex) quadratic programs\n",
    "    \n",
    "    decision_vars = np.array( sorted(prog.decision_variables(), key=lambda x: x.get_id()) )\n",
    "    num_vars = ( len(decision_vars) + 1 )\n",
    "    assert X.shape == (num_vars, num_vars) # else something is off\n",
    "\n",
    "    basis = np.flip(sym.MonomialBasis(decision_vars, DEGREE_QUADRATIC))\n",
    "    \n",
    "    bounding_box_eqs, bounding_box_ineqs = _collect_bounding_box_constraints(\n",
    "        prog.bounding_box_constraints()\n",
    "    )\n",
    "\n",
    "    has_linear_costs = len(prog.linear_costs()) > 0\n",
    "    if has_linear_costs:\n",
    "        raise NotImplementedError(\"Linear costs not yet implemented!\")\n",
    "\n",
    "    has_quadratic_costs = len(prog.quadratic_costs()) > 0\n",
    "    if has_quadratic_costs:\n",
    "        quadratic_costs = prog.quadratic_costs()\n",
    "        Q_cost = [\n",
    "            _quadratic_cost_binding_to_homogenuous_form(c, basis, num_vars)\n",
    "            for c in quadratic_costs\n",
    "        ]\n",
    "        for Q in Q_cost:\n",
    "            c = np.trace(Q.dot(X))\n",
    "            relaxed_prog.AddCost(c)\n",
    "\n",
    "    has_linear_eq_constraints = (\n",
    "        len(prog.linear_equality_constraints()) > 0 or len(bounding_box_eqs) > 0\n",
    "    )\n",
    "    A_eq = None\n",
    "    if has_linear_eq_constraints:\n",
    "        A_eq = _linear_bindings_to_homogenuous_form(\n",
    "            prog.linear_equality_constraints(), bounding_box_eqs, decision_vars\n",
    "        )\n",
    "        m,_ = A_eq.shape\n",
    "        I = np.eye(num_vars)\n",
    "        j = 0\n",
    "        if multiply_equality_constraints:\n",
    "            num_cons = num_vars\n",
    "        else:\n",
    "            num_cons = 1\n",
    "\n",
    "        np.random.seed(1)\n",
    "        for a in A_eq:\n",
    "            for i in range(num_cons):\n",
    "                j += 1\n",
    "                A = np.outer(a, I[i])\n",
    "                relaxed_prog.AddLinearConstraint( np.sum( X * ( A + A.T ) ) == 0 )\n",
    "\n",
    "    has_linear_ineq_constraints = (\n",
    "        len(prog.linear_constraints()) > 0 or len(bounding_box_ineqs) > 0\n",
    "    )\n",
    "    A_ineq = None\n",
    "    if has_linear_ineq_constraints:\n",
    "        A_ineq = _linear_bindings_to_homogenuous_form(\n",
    "            prog.linear_constraints(), bounding_box_ineqs, decision_vars\n",
    "        )\n",
    "        m,_ = A_ineq.shape\n",
    "\n",
    "        multiplied_constraints = ge(A_ineq.dot(X).dot(A_ineq.T), 0)\n",
    "        for c in multiplied_constraints.flatten():\n",
    "            relaxed_prog.AddLinearConstraint(c)\n",
    "\n",
    "        e_1 = unit_vector(0, X.shape[0])\n",
    "        linear_constraints = ge(A_ineq.dot(X).dot(e_1), 0)\n",
    "        for c in linear_constraints:\n",
    "            relaxed_prog.AddLinearConstraint(c)\n",
    "\n",
    "    has_generic_constaints = len(prog.generic_constraints()) > 0\n",
    "    # TODO: I can use Hongkai's PR once that is merged\n",
    "    if has_generic_constaints:\n",
    "        (\n",
    "            generic_eq_constraints_as_polynomials,\n",
    "            generic_ineq_constraints_as_polynomials,\n",
    "        ) = _generic_constraint_bindings_to_polynomials(prog.generic_constraints())\n",
    "\n",
    "        # check degree of all generic constraints\n",
    "        generic_constraints_as_polynomials = np.concatenate(\n",
    "            (\n",
    "                generic_eq_constraints_as_polynomials.flatten(),\n",
    "                generic_ineq_constraints_as_polynomials.flatten(),\n",
    "            )\n",
    "        )\n",
    "        _assert_max_degree(generic_constraints_as_polynomials, DEGREE_QUADRATIC)\n",
    "\n",
    "        Q_eqs = [\n",
    "            _quadratic_polynomial_to_homoenuous_form(p, basis, num_vars)\n",
    "            for p in generic_eq_constraints_as_polynomials\n",
    "        ]\n",
    "        for Q in Q_eqs:\n",
    "            constraints = eq( np.sum(X * Q), 0).flatten()\n",
    "            for c in constraints:  # Drake requires us to add one constraint at the time\n",
    "                relaxed_prog.AddLinearConstraint(c)\n",
    "        Q_ineqs = [\n",
    "            _quadratic_polynomial_to_homoenuous_form(p, basis, num_vars)\n",
    "            for p in generic_ineq_constraints_as_polynomials\n",
    "        ]\n",
    "        for Q in Q_ineqs:\n",
    "            constraints = ge(np.sum(X * Q), 0).flatten()\n",
    "            for c in constraints:  # Drake requires us to add one constraint at the time\n",
    "                relaxed_prog.AddLinearConstraint(c)\n",
    "    # return relaxed_prog, X, basis"
   ]
  },
  {
   "cell_type": "code",
   "execution_count": 3,
   "metadata": {},
   "outputs": [],
   "source": [
    "def make_chordal_sdp_relaxation(N:int, state_dim:int, control_dim:int, prog: MathematicalProgram, boundary_conditions:T.Tuple[npt.NDArray, npt.NDArray, npt.NDArray], multiply_equality_constraints:bool = True):\n",
    "    # ----------------------------------------------------------------------\n",
    "    # define the variables\n",
    "    Qf, z_star, z0 = boundary_conditions\n",
    "    z_star = z_star.reshape(state_dim, 1)\n",
    "\n",
    "    psd_mat_dim = 1 + state_dim + control_dim + state_dim\n",
    "\n",
    "    # generating PSD matrices\n",
    "    #  --------------------------------\n",
    "    # | 1       z_n.T     u_n.T   z_n+1.T | \n",
    "    # | z_n      X          X        X    |\n",
    "    # | u_n      X          X        X    |--------- \n",
    "    # |z_n+1     X          ZU       Z     \n",
    "    # |--------------------------|          \n",
    "    #                            |  \n",
    "    #                            |\n",
    "    \n",
    "    relaxed_prog = MathematicalProgram()\n",
    "\n",
    "    # one vector\n",
    "    one = relaxed_prog.NewContinuousVariables(1, \"1\").reshape(1,1)\n",
    "    # First variable is 1\n",
    "    relaxed_prog.AddLinearConstraint(one[0,0] == 1)  \n",
    "\n",
    "    # generate all the vectors and matrices\n",
    "    zn = []\n",
    "    un = []\n",
    "    zn_zn = []\n",
    "    zn_un = []\n",
    "    zn_zn1 = []\n",
    "    un_un = []\n",
    "    un_zn1 = []\n",
    "\n",
    "    # initial state zo\n",
    "    z0 = z0.reshape(state_dim, 1)\n",
    "    z0_z0 = z0 @ z0.T\n",
    "    zn.append(z0)\n",
    "    zn_zn.append(z0_z0)\n",
    "\n",
    "    # add state and control inputs\n",
    "    for n in range(N):\n",
    "        # z_n\n",
    "        zn_name = \"z\"+str(n+1)\n",
    "        zn.append( relaxed_prog.NewContinuousVariables(state_dim, zn_name).reshape(state_dim, 1))\n",
    "        # u_n\n",
    "        un_name = \"u\"+str(n)\n",
    "        un.append( relaxed_prog.NewContinuousVariables(control_dim, un_name).reshape(control_dim, 1))\n",
    "        # z_n x z_n\n",
    "        zn_zn_name = \"z\"+str(n+1)+\"z\"+str(n+1)\n",
    "        zn_zn.append( relaxed_prog.NewSymmetricContinuousVariables(state_dim, zn_zn_name) )\n",
    "        # u_n x u_n\n",
    "        un_un_name = \"u\"+str(n)+\"u\"+str(n)\n",
    "        un_un.append( relaxed_prog.NewSymmetricContinuousVariables(control_dim, un_un_name ) )\n",
    "    \n",
    "    # add product matrices\n",
    "    for n in range(N):\n",
    "        if n == 0:\n",
    "            # make initial conditions constraint explicit\n",
    "            z0 = zn[0]\n",
    "            u0 = un[0]\n",
    "            z1 = zn[1]\n",
    "            zn_un.append( z0 @ u0.T )\n",
    "            zn_zn1.append( z0 @ z1.T )\n",
    "            un_zn1.append( relaxed_prog.NewContinuousVariables(control_dim, state_dim, \"u0z1\") )\n",
    "        else:\n",
    "            zn_un_name = \"z\" + str(n) + \"u\" + str(n)\n",
    "            zn_zn1_name = \"z\" + str(n) + \"z\" + str(n+1)\n",
    "            un_zn1_name = \"u\" + str(n) + \"z\" + str(n+1)\n",
    "            zn_un.append( relaxed_prog.NewContinuousVariables(state_dim, control_dim, zn_un_name ) )\n",
    "            zn_zn1.append( relaxed_prog.NewContinuousVariables(state_dim, state_dim, zn_zn1_name ) )\n",
    "            un_zn1.append( relaxed_prog.NewContinuousVariables(control_dim, state_dim, un_zn1_name ) )\n",
    "\n",
    "    # having formed the parts, form the psd matrices\n",
    "    psd_mats = []\n",
    "    for n in range(N):\n",
    "        # construct the matrix\n",
    "        row1 = np.hstack( (one, zn[n].T, un[n].T, zn[n+1].T) )\n",
    "        row2 = np.hstack( (zn[n], zn_zn[n], zn_un[n], zn_zn1[n]) )\n",
    "        row3 = np.hstack( (un[n], zn_un[n].T, un_un[n], un_zn1[n]) )\n",
    "        row4 = np.hstack( (zn[n+1], zn_zn1[n].T, un_zn1[n].T, zn_zn[n+1]) )\n",
    "        mat = np.vstack((row1, row2, row3, row4) )\n",
    "        # make it PSD YEAAAAAH CHORDALITY BABY\n",
    "        relaxed_prog.AddPositiveSemidefiniteConstraint(mat)\n",
    "        psd_mats.append(mat)\n",
    "\n",
    "    # ----------------------------------------------------------------------\n",
    "    # great, let's add all the constraints\n",
    "    # notice how all of the above would work for any \n",
    "\n",
    "    # constraints get added to each an every matrix\n",
    "    # for n in tqdm(range(N)):\n",
    "    for n in range(N):\n",
    "        add_constraints_to_psd_mat_from_prog(prog, relaxed_prog, psd_mats[n], multiply_equality_constraints)\n",
    "\n",
    "    # add final cost\n",
    "    row1 = np.hstack( (one, zn[N].T) )\n",
    "    row2 = np.hstack( (zn[N], zn_zn[N]))\n",
    "    final_mat = np.vstack( (row1, row2) )\n",
    "\n",
    "    cost_row1 = np.hstack( ( (z_star.T @ Qf @ z_star).reshape(1,1), -z_star.T @ Qf ) )\n",
    "    cost_row2 = np.hstack( ( -Qf @ z_star, Qf ) )\n",
    "    final_cost = np.vstack((cost_row1, cost_row2))\n",
    "                          \n",
    "    relaxed_prog.AddLinearCost( np.sum( final_mat * final_cost ) )\n",
    "\n",
    "    return relaxed_prog, zn, un, psd_mats\n"
   ]
  },
  {
   "cell_type": "code",
   "execution_count": 23,
   "metadata": {},
   "outputs": [
    {
     "name": "stdout",
     "output_type": "stream",
     "text": [
      "\u001b[34mmaking the chordal sdp took 2.991s\n",
      "\u001b[34msolving the chordal sdp took 0.588s\n",
      "True\n",
      "498.5498579369456\n",
      "SolutionResult.kSolutionFound\n",
      "\u001b[32m[-0.   -0.   -0.   -0.   -0.01 -0.3   1.    0.    0.   -0.3 ]\n",
      "\u001b[32m[2.36 2.39]\n",
      "\u001b[34m\t\tMatrix rank 3 [11.52943476  0.20558329  0.01572834]\n",
      "\u001b[32m[-0.   -0.   -0.06  0.   -0.3  -0.05  1.   -0.06 -0.02 -0.05]\n",
      "\u001b[32m[2.04 2.02]\n",
      "\u001b[34m\t\tMatrix rank 3 [33.24650361  1.43813744  0.04244234]\n",
      "\u001b[32m[ 0.   -0.06 -0.07  0.32  0.14  0.07  1.   -0.07 -0.02  0.07]\n",
      "\u001b[32m[2.92 2.91]\n",
      "\u001b[34m\t\tMatrix rank 3 [22.00440145  1.30493178  0.04653657]\n",
      "\u001b[32m[ 0.06 -0.03 -0.06  0.66  0.18  0.13  0.99 -0.06 -0.01  0.13]\n",
      "\u001b[32m[2.45 2.45]\n",
      "\u001b[34m\t\tMatrix rank 3 [15.41535981  0.4118873   0.01586936]\n",
      "\u001b[32m[ 0.2   0.   -0.03  0.86  0.06  0.12  0.99 -0.03 -0.01  0.12]\n",
      "\u001b[32m[2.27 2.27]\n",
      "\u001b[34m\t\tMatrix rank 2 [15.36385024  0.09082843]\n",
      "\u001b[32m[ 0.37  0.01 -0.01  0.89 -0.02  0.08  0.99 -0.01 -0.01  0.08]\n",
      "\u001b[32m[2.3 2.3]\n",
      "\u001b[34m\t\tMatrix rank 2 [16.76672378  0.29753442]\n",
      "\u001b[32m[ 0.55  0.01  0.01  0.81 -0.03  0.03  0.99  0.01 -0.01  0.03]\n",
      "\u001b[32m[2.37 2.37]\n",
      "\u001b[34m\t\tMatrix rank 2 [17.32520367  0.37378007]\n",
      "\u001b[32m[ 0.71  0.    0.02  0.67 -0.01 -0.01  0.98  0.02 -0.01 -0.  ]\n",
      "\u001b[32m[2.4  2.41]\n",
      "\u001b[34m\t\tMatrix rank 2 [17.1368688   0.27979222]\n",
      "\u001b[32m[ 0.84  0.    0.02  0.53  0.   -0.03  0.98  0.02 -0.01 -0.03]\n",
      "\u001b[32m[2.41 2.41]\n",
      "\u001b[34m\t\tMatrix rank 2 [16.90465888  0.13536863]\n",
      "\u001b[32m[ 0.95  0.    0.01  0.44  0.01 -0.03  0.98  0.01 -0.01 -0.03]\n",
      "\u001b[32m[2.42 2.42]\n",
      "\u001b[34m\t\tMatrix rank 2 [17.06746031  0.07574176]\n",
      "\u001b[32m[ 1.04  0.    0.    0.41  0.01 -0.02  0.98  0.01 -0.01 -0.02]\n",
      "\u001b[32m[2.43 2.43]\n",
      "\u001b[34m\t\tMatrix rank 2 [17.50585931  0.09473885]\n",
      "\u001b[32m[ 1.12  0.   -0.    0.42  0.    0.    0.98  0.   -0.01  0.  ]\n",
      "\u001b[32m[2.44 2.44]\n",
      "\u001b[34m\t\tMatrix rank 2 [17.90419641  0.13353146]\n",
      "\u001b[32m[ 1.2   0.01 -0.    0.45 -0.01  0.01  0.97  0.   -0.01  0.01]\n",
      "\u001b[32m[2.44 2.43]\n",
      "\u001b[34m\t\tMatrix rank 2 [17.68879252  0.11798674]\n",
      "\u001b[32m[ 1.29  0.    0.    0.47 -0.08 -0.    0.97  0.01 -0.01  0.  ]\n",
      "\u001b[32m[2.37 2.37]\n",
      "\u001b[34m\t\tMatrix rank 2 [16.00855596  0.15808787]\n",
      "\u001b[32m[ 1.39 -0.01  0.    0.42 -0.34 -0.    0.97  0.01 -0.01  0.  ]\n",
      "\u001b[32m[2.11 2.11]\n"
     ]
    }
   ],
   "source": [
    "\n",
    "def make_chordal_sdp_program(N, desired_pos = np.array([2,0]), dt = 0.2):\n",
    "    horizon = N\n",
    "    builder = DiagramBuilder()\n",
    "    plant = builder.AddSystem(Quadrotor2D())\n",
    "    thrust_2_mass_ratio = 3 # 3:1 thrust : mass ratio\n",
    "    r = plant.length\n",
    "    m = plant.mass\n",
    "    I = plant.inertia\n",
    "    g = plant.gravity\n",
    "\n",
    "    Q = np.diag([10, 10, 1,  1, 1, 10,   1, 1,1,1 ])\n",
    "    Qf = Q*2\n",
    "    R = np.array([[0.1, 0.05], [0.05, 0.1]])\n",
    "    # R = np.array([[1, 0.5], [0.5, 1]])\n",
    "\n",
    "    # the logic behind N = 1 is to make chordal matrix gen easier\n",
    "    N = 1\n",
    "    prog = MathematicalProgram()\n",
    "    x = prog.NewContinuousVariables(1, \"x_n\")\n",
    "    y = prog.NewContinuousVariables(1, \"y_n\")\n",
    "    th = prog.NewContinuousVariables(1, \"th_n\")\n",
    "    dx = prog.NewContinuousVariables(1, \"dx_n\")\n",
    "    dy = prog.NewContinuousVariables(1, \"dy_n\")\n",
    "    dth = prog.NewContinuousVariables(1, \"dth_n\")\n",
    "    c = prog.NewContinuousVariables(1, \"c_n\")\n",
    "    s = prog.NewContinuousVariables(1, \"s_n\")\n",
    "    dc = prog.NewContinuousVariables(1, \"dc_n\")\n",
    "    ds = prog.NewContinuousVariables(1, \"ds_n\")\n",
    "    # N timesteps for control inputs\n",
    "    v = prog.NewContinuousVariables(1, \"v_n\")\n",
    "    w = prog.NewContinuousVariables(1, \"w_n\")\n",
    "\n",
    "    x = np.hstack( (x, prog.NewContinuousVariables(1, \"x_n1\")))\n",
    "    y = np.hstack( (y, prog.NewContinuousVariables(1, \"y_n1\") ))\n",
    "    th = np.hstack( (th, prog.NewContinuousVariables(1, \"th_n1\") ))\n",
    "    dx = np.hstack( (dx, prog.NewContinuousVariables(1, \"dx_n1\") ))\n",
    "    dy =np.hstack( (dy,  prog.NewContinuousVariables(1, \"dy_n1\") ))\n",
    "    dth = np.hstack( (dth, prog.NewContinuousVariables(1, \"dth_n1\") ))\n",
    "    c = np.hstack( (c, prog.NewContinuousVariables(1, \"c_n1\") ))\n",
    "    s = np.hstack( (s, prog.NewContinuousVariables(1, \"s_n1\") ))\n",
    "    dc = np.hstack( (dc, prog.NewContinuousVariables(1, \"dc_n1\") ))\n",
    "    ds =np.hstack( (ds,  prog.NewContinuousVariables(1, \"ds_n1\") ))\n",
    "\n",
    "    # full state and control vectors\n",
    "    z = np.vstack( (x,y,th,dx,dy,dth,c,s,dc,ds)).T\n",
    "    u = np.vstack( (v,w) ).T\n",
    "\n",
    "    state_dim = 10\n",
    "    control_dim = 2\n",
    "\n",
    "    # let's stack all binding per step at respective parts\n",
    "    \n",
    "    for n in range(N):\n",
    "        cons = []\n",
    "        # quadratic inequality constraints: s^2 + c^2 = 1\n",
    "        cons.append( prog.AddConstraint( s[n+1]**2 + c[n+1]**2 >= 0.99 ) )\n",
    "        # cons.append( prog.AddConstraint( s[n+1]**2 + c[n+1]**2 <= 1.01 ) )\n",
    "\n",
    "        # lower and upper bounds on control inputs\n",
    "        cons.append( prog.AddBoundingBoxConstraint(0, m*g/2 * thrust_2_mass_ratio, v[n]) )\n",
    "        cons.append( prog.AddBoundingBoxConstraint(0, m*g/2 * thrust_2_mass_ratio, w[n]) )\n",
    "\n",
    "        # linear dynamics\n",
    "        cons.append( prog.AddLinearEqualityConstraint( x[n+1] == x[n] + dt * dx[n]  ) )\n",
    "        cons.append( prog.AddLinearEqualityConstraint( y[n+1] == y[n] + dt * dy[n] ) )\n",
    "        cons.append( prog.AddLinearEqualityConstraint( th[n+1] == th[n] + dt * dth[n] ) )\n",
    "        cons.append( prog.AddLinearEqualityConstraint( dth[n+1] == dth[n] + dt * (v[n] - w[n]) * r / I ) )\n",
    "        # quadratic dynamics\n",
    "        cons.append( prog.AddConstraint( dx[n+1] == dx[n] + dt * (-(v[n] + w[n]) * s[n] / m) ) )\n",
    "        cons.append( prog.AddConstraint( dy[n+1] == dy[n] + dt * ( (v[n] + w[n]) * c[n] / m - g) ) )\n",
    "        cons.append( prog.AddConstraint( c[n+1] == c[n] + dt * dc[n] ) )\n",
    "        cons.append( prog.AddConstraint( s[n+1] == s[n] + dt * ds[n] ) )\n",
    "        cons.append( prog.AddConstraint( dc[n+1] == dc[n] - dt * ( r/I*(v[n]-w[n])*s[n] + dth[n]*ds[n] ) ) )\n",
    "        cons.append( prog.AddConstraint( ds[n+1] == ds[n] + dt * ( r/I*(v[n]-w[n])*c[n] + dth[n]*dc[n] ) ) )\n",
    "        # append all the constraints\n",
    "\n",
    "    # add the cost -- this is fine, cost we can put over the whole thing\n",
    "    z_star = np.hstack( (desired_pos, np.array([0, 0,0,0, 1,0, 0,0]) ))\n",
    "    u_star = m * g / 2.0 * np.array([1, 1])\n",
    "    # build the cost\n",
    "    cost = 0\n",
    "    for i in range(N):\n",
    "        cost = cost + (z[i]-z_star).dot(Q).dot(z[i]-z_star) + (u[i]-u_star).dot(R).dot(u[i]-u_star)\n",
    "\n",
    "    prog.AddCost(cost)\n",
    "\n",
    "    z_0 = np.array( [0,0,0, 0,0,0, 1,0, 0,0] )\n",
    "    boundary_conditions = Qf, z_star, z_0\n",
    "\n",
    "    timer = timeit()\n",
    "    relaxed_prog, zn, un, psd_mats = make_chordal_sdp_relaxation( horizon, state_dim, control_dim, prog, boundary_conditions)\n",
    "\n",
    "    timer.dt(\"making the chordal sdp\")\n",
    "    solution = Solve(relaxed_prog)\n",
    "    \n",
    "    timer.dt(\"solving the chordal sdp\")\n",
    "    print( solution.is_success() )\n",
    "    print( solution.get_optimal_cost() )\n",
    "    print( solution.get_solution_result() )\n",
    "\n",
    "    for n in range(horizon):\n",
    "        YAY( np.round(solution.GetSolution( zn[n+1] ),2))\n",
    "        YAY( np.round(solution.GetSolution( un[n] ),2))\n",
    "        if n < horizon-1:\n",
    "            X_val = solution.GetSolution(psd_mats[n+1])\n",
    "            eigenvals, _ = np.linalg.eig(X_val)    \n",
    "            INFO(\"\\t\\tMatrix rank\", np.sum(eigenvals>1e-2), eigenvals[eigenvals>1e-2])\n",
    "    \n",
    "\n",
    "relaxed_prog = make_chordal_sdp_program(15)"
   ]
  },
  {
   "cell_type": "code",
   "execution_count": 13,
   "metadata": {},
   "outputs": [
    {
     "name": "stdout",
     "output_type": "stream",
     "text": [
      "\u001b[34msolving the chordal sdp took 0.219s\n",
      "True\n",
      "431.08982350245475\n",
      "SolutionResult.kSolutionFound\n"
     ]
    }
   ],
   "source": []
  },
  {
   "cell_type": "code",
   "execution_count": 14,
   "metadata": {},
   "outputs": [
    {
     "name": "stdout",
     "output_type": "stream",
     "text": [
      "adding quadratic costs: 1\n"
     ]
    },
    {
     "name": "stderr",
     "output_type": "stream",
     "text": [
      "100%|██████████| 1/1 [00:02<00:00,  2.50s/it]\n"
     ]
    },
    {
     "name": "stdout",
     "output_type": "stream",
     "text": [
      "adding linear equality constraints: 64\n"
     ]
    },
    {
     "name": "stderr",
     "output_type": "stream",
     "text": [
      "100%|██████████| 64/64 [00:02<00:00, 31.86it/s]\n"
     ]
    },
    {
     "name": "stdout",
     "output_type": "stream",
     "text": [
      "added  64 linear equality constraints\n",
      "adding linear inequality constraints: 40\n"
     ]
    },
    {
     "name": "stderr",
     "output_type": "stream",
     "text": [
      "100%|██████████| 1600/1600 [00:00<00:00, 109732.11it/s]\n",
      "100%|██████████| 40/40 [00:00<00:00, 119410.79it/s]\n"
     ]
    },
    {
     "name": "stdout",
     "output_type": "stream",
     "text": [
      "Quadratic equality constraints 36\n"
     ]
    },
    {
     "name": "stderr",
     "output_type": "stream",
     "text": [
      "100%|██████████| 36/36 [00:01<00:00, 31.59it/s]\n"
     ]
    },
    {
     "name": "stdout",
     "output_type": "stream",
     "text": [
      "Quadratic inequality constraints 20\n"
     ]
    },
    {
     "name": "stderr",
     "output_type": "stream",
     "text": [
      "100%|██████████| 20/20 [00:00<00:00, 32.63it/s]\n"
     ]
    },
    {
     "name": "stdout",
     "output_type": "stream",
     "text": [
      "\u001b[34mSDP generation took 9.613s\n",
      "\u001b[34mSDP solving took 0.656s\n",
      "---\n",
      "True\n",
      "355.7831003358369\n",
      "SolutionResult.kSolutionFound\n",
      "matrix shape (121, 121)\n",
      "Matrix rank 13\n",
      "\u001b[32mx [-0.    0.    0.12  0.32  0.53  0.71  0.84  0.93  0.98  0.99]\n",
      "\u001b[32my [-0.   -0.01 -0.    0.    0.   -0.   -0.    0.    0.   -0.01]\n",
      "\u001b[32mth [ 0.   -0.01 -0.01 -0.01 -0.   -0.   -0.   -0.   -0.   -0.  ]\n",
      "\u001b[32mdx [ 0.    0.62  0.98  1.03  0.91  0.68  0.44  0.23  0.06 -0.08]\n",
      "\u001b[32mdy [-0.06  0.05  0.02 -0.01 -0.02  0.01  0.02  0.01 -0.06 -0.32]\n",
      "\u001b[32mdth [-0.04  0.01  0.01  0.    0.    0.    0.    0.    0.    0.  ]\n",
      "\u001b[32mc [1.   1.   1.   1.02 1.02 1.02 1.02 1.01 1.   0.99]\n",
      "\u001b[32ms [-0.03 -0.01  0.01  0.06  0.11  0.12  0.11  0.09  0.08  0.08]\n",
      "\u001b[32mdc [ 0.    0.01  0.07  0.   -0.    0.01 -0.02 -0.06 -0.06 -0.01]\n",
      "\u001b[32mds [-0.04  0.05  0.32  0.25  0.05 -0.07 -0.08 -0.05 -0.02 -0.  ]\n",
      "\u001b[32mv [2.31 2.87 2.28 2.27 2.33 2.38 2.35 2.32 2.27 2.06]\n",
      "\u001b[32mw [2.32 2.87 2.28 2.27 2.33 2.37 2.36 2.32 2.27 2.06]\n",
      "\u001b[34mddy [-0.27694399  2.00673975 -0.43686952 -0.31539202 -0.049418    0.12779062\n",
      "  0.06031436 -0.10535544 -0.42547632 -1.41751064]\n"
     ]
    },
    {
     "data": {
      "text/plain": [
       "(<pydrake.solvers.MathematicalProgram at 0x11c39f670>,\n",
       " <pydrake.solvers.MathematicalProgramResult at 0x15dae0930>,\n",
       " {'x': array([-7.16382895e-15,  2.66924707e-17,  1.24928037e-01,  3.20068343e-01,\n",
       "          5.26514155e-01,  7.08054140e-01,  8.44897308e-01,  9.33720294e-01,\n",
       "          9.80172432e-01,  9.91397945e-01]),\n",
       "  'y': array([-4.48366028e-20, -1.14936898e-02, -1.28472435e-03,  2.91358089e-03,\n",
       "          6.94123425e-04, -2.86321550e-03, -7.65688285e-04,  3.19967535e-03,\n",
       "          4.47327169e-03, -7.01870257e-03]),\n",
       "  'th': array([ 3.67555702e-22, -8.24108424e-03, -6.40251359e-03, -5.15922709e-03,\n",
       "         -4.68275796e-03, -4.28179231e-03, -4.00955477e-03, -3.91374558e-03,\n",
       "         -3.80688388e-03, -3.65223112e-03]),\n",
       "  'dx': array([ 7.81462929e-19,  6.24640001e-01,  9.75701400e-01,  1.03222914e+00,\n",
       "          9.07699964e-01,  6.84215763e-01,  4.44114818e-01,  2.32260598e-01,\n",
       "          5.61274391e-02, -8.46494087e-02]),\n",
       "  'dy': array([-0.05746821,  0.05104461,  0.02099158, -0.01109736, -0.01778677,\n",
       "          0.01048757,  0.01982681,  0.00636799, -0.05745991, -0.32103703]),\n",
       "  'dth': array([-4.12053997e-02,  9.19285534e-03,  6.21643212e-03,  2.38234336e-03,\n",
       "          2.00482771e-03,  1.36118574e-03,  4.79043973e-04,  5.34307865e-04,\n",
       "          7.73263735e-04,  9.48150924e-05]),\n",
       "  'c': array([1.00109197, 0.99981326, 0.99749267, 1.01672752, 1.01713331,\n",
       "         1.0170563 , 1.01841232, 1.01458486, 1.00344143, 0.99182873]),\n",
       "  's': array([-0.02556137, -0.00693449,  0.00918452,  0.0649011 ,  0.1142452 ,\n",
       "          0.12375744,  0.11054545,  0.09414539,  0.0834838 ,  0.07921826]),\n",
       "  'dc': array([ 1.18821838e-09,  1.47284816e-02,  7.15873291e-02,  1.25591979e-03,\n",
       "         -2.44874747e-03,  6.93957521e-03, -1.91514954e-02, -5.54140572e-02,\n",
       "         -5.83517416e-02, -1.13235550e-02]),\n",
       "  'ds': array([-0.04120546,  0.04782739,  0.317843  ,  0.2469213 ,  0.04768605,\n",
       "         -0.06634199, -0.08200492, -0.05403706, -0.02059686, -0.00282984]),\n",
       "  'v': array([2.31242762, 2.87352692, 2.28294366, 2.26985307, 2.33324959,\n",
       "         2.37539701, 2.35486298, 2.32432868, 2.27263435, 2.05567623]),\n",
       "  'w': array([2.31558396, 2.87048124, 2.28384819, 2.26860917, 2.33048799,\n",
       "         2.37337281, 2.35538324, 2.32432857, 2.27260203, 2.05667673])})"
      ]
     },
     "execution_count": 14,
     "metadata": {},
     "output_type": "execute_result"
    }
   ],
   "source": [
    "from sdp_birotor import solve_sdp_birotor\n",
    "solve_sdp_birotor(10)"
   ]
  },
  {
   "cell_type": "code",
   "execution_count": 7,
   "metadata": {},
   "outputs": [
    {
     "data": {
      "text/plain": [
       "array([ 1.  , -0.  , -0.  ,  0.09, -0.  , -0.  , -0.1 , -0.  ,  0.  ,\n",
       "        0.  ,  0.  ,  0.43, -0.  , -0.  , -0.51, -0.  ,  0.  ,  0.  ,\n",
       "        0.  ,  0.59,  0.59,  0.5 , -0.17, -0.17,  0.  ,  3.  ,  1.19,\n",
       "        3.  ,  1.19])"
      ]
     },
     "execution_count": 7,
     "metadata": {},
     "output_type": "execute_result"
    }
   ],
   "source": []
  },
  {
   "cell_type": "code",
   "execution_count": 16,
   "metadata": {},
   "outputs": [
    {
     "name": "stdout",
     "output_type": "stream",
     "text": [
      "\u001b[34m0.000s since last time-check\n"
     ]
    },
    {
     "data": {
      "text/plain": [
       "5.888938903808594e-05"
      ]
     },
     "execution_count": 16,
     "metadata": {},
     "output_type": "execute_result"
    }
   ],
   "source": [
    "I = np.eye(100)\n",
    "timer = timeit()\n",
    "np.outer(I[0],I[0])\n",
    "# I[0].reshape(100,1) @ I[0].reshape(100,1).T\n",
    "timer.dt()"
   ]
  },
  {
   "cell_type": "code",
   "execution_count": 48,
   "metadata": {},
   "outputs": [
    {
     "name": "stdout",
     "output_type": "stream",
     "text": [
      "(59, 59)\n",
      "35\n"
     ]
    }
   ],
   "source": []
  },
  {
   "cell_type": "code",
   "execution_count": 8,
   "metadata": {},
   "outputs": [],
   "source": [
    "x_val = X_val[:, 0]\n",
    "rounded_sols = np.round(np.real(_get_sol_from_svd(X_val)),3)"
   ]
  },
  {
   "cell_type": "code",
   "execution_count": 9,
   "metadata": {},
   "outputs": [
    {
     "data": {
      "text/plain": [
       "array([ 1.   , -0.   , -0.   ,  0.086, -0.   , -0.   , -0.102,  0.   ,\n",
       "        0.   ,  0.   ,  0.   ,  0.428, -0.   , -0.   , -0.508, -0.   ,\n",
       "        0.   ,  0.   ,  0.   ,  0.588,  0.588,  0.5  , -0.173, -0.173,\n",
       "        0.   ,  3.005,  1.192,  3.005,  1.192])"
      ]
     },
     "execution_count": 9,
     "metadata": {},
     "output_type": "execute_result"
    }
   ],
   "source": [
    "rounded_sols"
   ]
  },
  {
   "cell_type": "code",
   "execution_count": 55,
   "metadata": {},
   "outputs": [
    {
     "name": "stdout",
     "output_type": "stream",
     "text": [
      "3.3079570089680914e-13\n",
      "4.636539446151489\n"
     ]
    }
   ],
   "source": [
    "# does the c+s constraint not hold\n",
    "N2+=1\n",
    "print( X_val[N2+5*N1,N2+5*N1] )\n",
    "print( X_val[N2+6*N1,N2+6*N1] )"
   ]
  },
  {
   "cell_type": "code",
   "execution_count": 56,
   "metadata": {},
   "outputs": [
    {
     "name": "stdout",
     "output_type": "stream",
     "text": [
      "x [-0.    -0.    -0.     0.447  0.672  0.765]\n",
      "y [-0.    -0.    -0.038 -0.021 -0.012 -0.009]\n",
      "th [-0.  0.  0.  0.  0.  0.]\n",
      "dx [-0.    -0.     2.233  1.126  0.469  0.   ]\n",
      "dy [-0.    -0.19   0.085  0.043  0.018  0.   ]\n",
      "dth [ 0.  0. -0.  0. -0.  0.]\n",
      "c [1.  1.  0.5 0.5 0.5 0.5]\n",
      "s [ 0.  0. -0. -0. -0.  0.]\n",
      "v [2.153 1.192 1.192 1.192 1.192]\n",
      "w [2.153 1.192 1.192 1.192 1.192]\n"
     ]
    }
   ],
   "source": [
    "N = 5\n",
    "N1 = 6\n",
    "N2 = 7\n",
    "print(\"x\", rounded_sols[1:N2])\n",
    "print(\"y\", rounded_sols[N2: N2+N1])\n",
    "print(\"th\", rounded_sols[N2+N1: N2+2*N1])\n",
    "print(\"dx\", rounded_sols[N2+2*N1: N2+3*N1])\n",
    "print(\"dy\", rounded_sols[N2+3*N1: N2+4*N1])\n",
    "print(\"dth\", rounded_sols[N2+4*N1: N2+5*N1])\n",
    "print(\"c\", rounded_sols[N2+5*N1: N2+6*N1])\n",
    "print(\"s\", rounded_sols[N2+6*N1: N2+7*N1])\n",
    "print(\"v\", rounded_sols[N2+7*N1: N2+7*N1+N])\n",
    "print(\"w\", rounded_sols[N2+7*N1+N: N2+7*N1+2*N])"
   ]
  },
  {
   "cell_type": "code",
   "execution_count": 27,
   "metadata": {},
   "outputs": [
    {
     "data": {
      "text/plain": [
       "array([<Monomial \"1\">, <Monomial \"x(0)\">, <Monomial \"x(1)\">, ...,\n",
       "       <Monomial \"w(3)^2\">, <Monomial \"w(3) * w(4)\">, <Monomial \"w(4)^2\">],\n",
       "      dtype=object)"
      ]
     },
     "execution_count": 27,
     "metadata": {},
     "output_type": "execute_result"
    }
   ],
   "source": [
    "# x [ 0.    0.   -0.   -0.    0.14  0.36]\n",
    "# y [ 0.    0.   -0.01 -0.13 -0.01  0.06]\n",
    "# th [ 0.   -0.   -0.22 -0.22 -0.22 -0.22]\n",
    "# ---\n",
    "# dx [-0.   -0.   -0.    0.72  1.09  1.43]\n",
    "# dy [-0.   -0.05 -0.61  0.62  0.32 -0.12]\n",
    "# dth [-0.   -1.12  0.    0.   -0.   -0.  ]\n",
    "# ---\n",
    "# v [2.28 1.74 3.89 2.01 1.85]\n",
    "# w [2.37 1.65 3.89 2.01 1.85]"
   ]
  },
  {
   "cell_type": "code",
   "execution_count": 41,
   "metadata": {},
   "outputs": [
    {
     "data": {
      "text/plain": [
       "array([ 1.   , -0.   , -0.   , -0.   ,  0.447,  0.672,  0.765, -0.   ,\n",
       "       -0.   , -0.038, -0.021, -0.012, -0.009, -0.   ,  0.   ,  0.   ,\n",
       "        0.   ,  0.   ,  0.   , -0.   , -0.   ,  2.233,  1.126,  0.469,\n",
       "        0.   , -0.   , -0.19 ,  0.085,  0.043,  0.018,  0.   ,  0.   ,\n",
       "        0.   , -0.   ,  0.   , -0.   ,  0.   ,  1.   ,  1.   ,  0.5  ,\n",
       "        0.5  ,  0.5  ,  0.5  ,  0.   ,  0.   , -0.   , -0.   , -0.   ,\n",
       "        0.   ,  2.153,  1.192,  1.192,  1.192,  1.192,  2.153,  1.192,\n",
       "        1.192,  1.192,  1.192])"
      ]
     },
     "execution_count": 41,
     "metadata": {},
     "output_type": "execute_result"
    }
   ],
   "source": [
    "rounded_sols"
   ]
  },
  {
   "cell_type": "code",
   "execution_count": 61,
   "metadata": {},
   "outputs": [
    {
     "data": {
      "text/plain": [
       "0.9682458365518543"
      ]
     },
     "execution_count": 61,
     "metadata": {},
     "output_type": "execute_result"
    }
   ],
   "source": [
    "np.sqrt(1-0.25*0.25)"
   ]
  },
  {
   "cell_type": "code",
   "execution_count": 3,
   "metadata": {},
   "outputs": [
    {
     "ename": "SyntaxError",
     "evalue": "invalid syntax (3361561313.py, line 29)",
     "output_type": "error",
     "traceback": [
      "\u001b[0;36m  Cell \u001b[0;32mIn [3], line 29\u001b[0;36m\u001b[0m\n\u001b[0;31m    return self.X[i][]\u001b[0m\n\u001b[0m                     ^\u001b[0m\n\u001b[0;31mSyntaxError\u001b[0m\u001b[0;31m:\u001b[0m invalid syntax\n"
     ]
    }
   ],
   "source": [
    "class BirotorChordalProgBuilder:\n",
    "    def __init__(self, N = 5, dt = 0.2, init_pos=[0,0], final_pos=[2,0]):\n",
    "        # define constants\n",
    "        self.thrust_2_mass_ratio = 3 # 3:1 thrust : mass ratio\n",
    "        builder = DiagramBuilder()\n",
    "        plant = builder.AddSystem(Quadrotor2D())\n",
    "        self.r = plant.length\n",
    "        self.m = plant.mass\n",
    "        self.I = plant.inertia\n",
    "        self.g = plant.gravity\n",
    "        self.dt = dt\n",
    "\n",
    "        # define cost matrices\n",
    "        self.Q = np.array([0, 10, 10, 10,  1, 1, (self.r / 2.0 / np.pi),  10, 10 ])\n",
    "        self.Qf = self.Q\n",
    "        # self.R = np.array([[0.1, 0.05], [0.05, 0.1]])\n",
    "        self.R1 = 0.1\n",
    "        self.R12 = 0.05\n",
    "\n",
    "        # initial / final conditions\n",
    "        self.init_pos = init_pos\n",
    "        self.final_pos = final_pos\n",
    "        \n",
    "        self.N = N\n",
    "        self.n = 8\n",
    "        self.m = 2\n",
    "        self.d = self.n + self.m\n",
    "        self.prog = MathematicalProgram()\n",
    "        self.init_vars()\n",
    "        self.add_dynamics()\n",
    "\n",
    "\n",
    "    def init_vars(self):\n",
    "        # define N d x d matrices: timesteps 0 through N-1\n",
    "        self.X = []\n",
    "        for i in range(self.N):\n",
    "            # define a psd matrix\n",
    "            mat = self.prog.NewSymmetricContinuousVariables(self.d+1, \"X\"+str(i))\n",
    "            self.prog.AddPositiveSemidefiniteConstraint(prog)\n",
    "            # X00 is 1\n",
    "            self.prog.AddLinearConstraint( mat[0,0] == 1 )\n",
    "            self.X.append(mat)\n",
    "\n",
    "        # timestep N\n",
    "        mat = self.prog.NewSymmetricContinuousVariables(self.n+1, \"X\"+str(N))\n",
    "        self.prog.AddPositiveSemidefiniteConstraint(prog)\n",
    "        self.prog.AddLinearConstraint( mat[0,0] == 1 )\n",
    "        self.X.append( mat )\n",
    "\n",
    "    def zero(self, expr):\n",
    "        self.prog.AddLinearConstraint( eq(expr,0) )\n",
    "\n",
    "    def pos(self, expr):\n",
    "        self.prog.AddLinearConstraint( ge(expr, 0) )\n",
    "\n",
    "    def neg(self, expr):\n",
    "        self.prog.AddLinearConstraint( le(expr, 0) )\n",
    "\n",
    "    def box(self, lb, ub, expr):\n",
    "        self.prog.AddLinearConstraint( le(expr, ub) )\n",
    "        self.prog.AddLinearConstraint( le(lb, expr) )\n",
    "\n",
    "    def add_dynamics(self):\n",
    "        r, m, I, g, dt = self.r, self.m, self.I, self.g, self.dt\n",
    "        # add dynamics\n",
    "        for n in range(self.N):\n",
    "            self.zero(-self.x(n+1) + self.x(n) + dt * self.dx(n))\n",
    "            self.zero(-self.y(n+1) + self.y(n) + dt * self.dy(n))\n",
    "            self.zero(-self.th(n+1) + self.th(n) + dt * self.dth(n) )\n",
    "            self.zero(-self.dx(n+1) + self.dx(n) - self.vs(n)*dt/m - self.ws(n)*dt/m )\n",
    "            self.zero(-self.dy(n+1) + self.dy(n) + self.vc(n)*dt/m + self.wc(n)*dt/m - self.one(n)*g*dt )\n",
    "            self.zero(-self.dth(n+1) + self.dth(n) + self.v(n)*dt*r/I - self.w(n)*dt*r/I )\n",
    "            self.zero(-self.c(n+1) + self.c(n) - dt * self.dths(n) )\n",
    "            self.zero(-self.s(n+1) + self.s(n) + dt * self.dthc(n) )\n",
    "\n",
    "    def add_control_bounds(self):\n",
    "        m, g, thrust_2_mass_ratio = self.m, self.g, self.thrust_2_mass_ratio\n",
    "        for n in range(self.N):\n",
    "            self.box( 0, m*g/2 * thrust_2_mass_ratio, self.v(n) )\n",
    "            self.box( 0, m*g/2 * thrust_2_mass_ratio, self.w(n) )\n",
    "\n",
    "    \n",
    "\n",
    "    # variable ordering shenanigans\n",
    "    # variable ordering in the matrices is:\n",
    "    # 0 -- 1\n",
    "    # 1 -- x\n",
    "    # 2 -- y\n",
    "    # 3 -- th\n",
    "    # 4 -- dx\n",
    "    # 5 -- dy\n",
    "    # 6 -- dth\n",
    "    # 7 -- c\n",
    "    # 8 -- s\n",
    "    # 9 -- v\n",
    "    #10 -- w\n",
    "\n",
    "    def one(self,i): return self.X[i][0,0]\n",
    "    def x(self, i): return self.X[i][0,1]\n",
    "    def y(self, i): return self.X[i][0,2]\n",
    "    def th(self, i): return self.X[i][0,3]\n",
    "    def dx(self, i): return self.X[i][0,4]\n",
    "    def dy(self, i): return self.X[i][0,5]\n",
    "    def dth(self, i): return self.X[i][0,6]\n",
    "    def c(self, i): return self.X[i][0,7]\n",
    "    def s(self, i): return self.X[i][0,8]\n",
    "    def v(self, i): return self.X[i][0,9]\n",
    "    def w(self, i): return self.X[i][0,10]\n",
    "\n",
    "    def xx(self, i): return self.X[i][1,1]\n",
    "    def yy(self, i): return self.X[i][2,2]\n",
    "    def thth(self, i): return self.X[i][3,3]\n",
    "    def dxdx(self, i): return self.X[i][4,4]\n",
    "    def dydy(self, i): return self.X[i][5,5]\n",
    "    def dthdth(self, i): return self.X[i][6,6]\n",
    "    def cc(self, i): return self.X[i][7,7]\n",
    "    def ss(self, i): return self.X[i][8,8]\n",
    "    def vv(self, i): return self.X[i][9,9]\n",
    "    def ww(self, i): return self.X[i][10,10]\n",
    "\n",
    "    def vs(self, i):return self.X[i][9,8]\n",
    "    def ws(self, i):return self.X[i][10,8]\n",
    "\n",
    "    def vc(self, i):return self.X[i][9,7]\n",
    "    def wc(self, i):return self.X[i][10,7]\n",
    "\n",
    "    def dths(self, i):return self.X[i][6,8]\n",
    "    def dthc(self, i):return self.X[i][6,7]\n",
    "\n",
    "    def wv(self, i):return self.X[i][10,9]\n",
    "    def vw(self, i):return self.X[i][10,9]\n",
    "    \n",
    "\n",
    "        \n",
    "\n",
    "\n",
    "\n",
    "\n",
    "\n"
   ]
  },
  {
   "cell_type": "code",
   "execution_count": 34,
   "metadata": {},
   "outputs": [
    {
     "data": {
      "text/plain": [
       "(2500, 2500)"
      ]
     },
     "execution_count": 34,
     "metadata": {},
     "output_type": "execute_result"
    }
   ],
   "source": [
    "from numpy.core.umath_tests import inner1d\n",
    "prog = MathematicalProgram()\n",
    "n = 50\n",
    "X = prog.NewSymmetricContinuousVariables(n)\n",
    "x = X.flatten()\n",
    "a = np.random.random((n,1))\n",
    "timer = timeit()\n",
    "A = []\n",
    "for i in range(n):\n",
    "    ei = np.zeros((n,1))\n",
    "    ei[i] = 1\n",
    "    A.append((ei @ a.T + a @ ei.T).flatten())\n",
    "    # print(A.shape)\n",
    "    # A.dot(x)\n",
    "    # prog.AddLinearEqualityConstraint( e = A.dot(x), b = 0)\n",
    "    # print(A)\n",
    "    # print(\"---\")\n",
    "    # prog.AddLinearEqualityConstraint( e = np.sum(A * X), b = 0)\n",
    "\n",
    "A = np.array(A)\n",
    "(A.T @ A).shape\n",
    "# print( (A.dot(x)).shape )\n",
    "# prog.AddLinearEqualityConstraint( e = A.dot(x), b = np.zeros((n,1)))\n",
    "# print(A.shape)\n",
    "# timer.dt()"
   ]
  },
  {
   "cell_type": "code",
   "execution_count": 38,
   "metadata": {},
   "outputs": [
    {
     "name": "stdout",
     "output_type": "stream",
     "text": [
      "True\n",
      "SolutionResult.kSolutionFound\n"
     ]
    },
    {
     "data": {
      "text/plain": [
       "array([0.00059368, 0.00051365, 0.00054383, ..., 0.00044684, 0.0004761 ,\n",
       "       0.00045649])"
      ]
     },
     "execution_count": 38,
     "metadata": {},
     "output_type": "execute_result"
    }
   ],
   "source": [
    "prog = MathematicalProgram()\n",
    "n = 30\n",
    "m = 20\n",
    "X11 = prog.NewSymmetricContinuousVariables(n, \"X11\")\n",
    "X22 = prog.NewSymmetricContinuousVariables(m, \"X22\")\n",
    "X33 = prog.NewSymmetricContinuousVariables(n, \"X33\")\n",
    "\n",
    "X12 = prog.NewContinuousVariables(n,m,\"X12\")\n",
    "X23 = prog.NewContinuousVariables(m,n,\"X23\")\n",
    "\n",
    "X1 = np.vstack((np.hstack((X11,X12)), np.hstack((X12.T, X22))))\n",
    "X3 = np.vstack((np.hstack((X22,X23)), np.hstack((X23.T, X33))))\n",
    "prog.AddPositiveSemidefiniteConstraint(X1)\n",
    "prog.AddPositiveSemidefiniteConstraint(X3)\n",
    "\n",
    "A1 = np.random.random((n+m,n+m))\n",
    "b1 = np.random.random()\n",
    "A3 = np.random.random((n+m,n+m))\n",
    "b3 = np.random.random()\n",
    "prog.AddLinearConstraint( np.sum(A1 * X1) == b1 ) \n",
    "prog.AddLinearConstraint( np.sum(A3 * X3) == b3 ) \n",
    "\n",
    "prog.AddLinearCost( np.trace(X1) )\n",
    "prog.AddLinearCost( np.trace(X3) )\n",
    "\n",
    "timer.dt()\n",
    "solution = Solve(prog)\n",
    "print(solution.is_success())\n",
    "print(solution.get_solution_result())\n",
    "\n",
    "solution."
   ]
  },
  {
   "cell_type": "code",
   "execution_count": 41,
   "metadata": {},
   "outputs": [
    {
     "data": {
      "text/plain": [
       "(2340,)"
      ]
     },
     "execution_count": 41,
     "metadata": {},
     "output_type": "execute_result"
    }
   ],
   "source": [
    "solution.get_x_val().shape"
   ]
  },
  {
   "cell_type": "code",
   "execution_count": 43,
   "metadata": {},
   "outputs": [
    {
     "data": {
      "text/plain": [
       "2340.0"
      ]
     },
     "execution_count": 43,
     "metadata": {},
     "output_type": "execute_result"
    }
   ],
   "source": [
    "30*31/2*2 + 20*21/2 + 30*20*2"
   ]
  },
  {
   "cell_type": "code",
   "execution_count": null,
   "metadata": {},
   "outputs": [],
   "source": []
  }
 ],
 "metadata": {
  "kernelspec": {
   "display_name": "Python 3",
   "language": "python",
   "name": "python3"
  },
  "language_info": {
   "codemirror_mode": {
    "name": "ipython",
    "version": 3
   },
   "file_extension": ".py",
   "mimetype": "text/x-python",
   "name": "python",
   "nbconvert_exporter": "python",
   "pygments_lexer": "ipython3",
   "version": "3.10.8"
  },
  "orig_nbformat": 4
 },
 "nbformat": 4,
 "nbformat_minor": 2
}
