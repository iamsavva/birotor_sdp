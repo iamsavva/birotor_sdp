{
 "cells": [
  {
   "cell_type": "code",
   "execution_count": 1,
   "metadata": {},
   "outputs": [],
   "source": [
    "import typing as T\n",
    "\n",
    "import numpy as np\n",
    "import numpy.typing as npt\n",
    "import scipy as sp\n",
    "\n",
    "from matplotlib import pyplot as plt\n",
    "import matplotlib.patches as patches\n",
    "\n",
    "from pydrake.solvers import (\n",
    "    MathematicalProgram,\n",
    "    MathematicalProgramResult,\n",
    "    Solve,\n",
    "    SolverOptions,\n",
    "    CommonSolverOption, \n",
    "    IpoptSolver,\n",
    "    GurobiSolver\n",
    ")\n",
    "from pydrake.symbolic import Polynomial, Variable, Variables, Evaluate\n",
    "from sdp import create_sdp_relaxation, _get_sol_from_svd\n",
    "\n",
    "from pydrake.math import eq, le, ge\n",
    "\n",
    "from util import timeit, YAY, WARN, INFO, ERROR\n",
    "\n",
    "import math\n",
    "\n",
    "import matplotlib.pyplot as plt\n",
    "import mpld3\n",
    "import numpy as np\n",
    "from IPython.display import HTML, display\n",
    "from pydrake.all import  DiagramBuilder \n",
    "from pydrake.solvers import MathematicalProgram, Solve\n",
    "\n",
    "# from underactuated import ConfigureParser, running_as_notebook\n",
    "from underactuated import running_as_notebook\n",
    "from underactuated.quadrotor2d import Quadrotor2D, Quadrotor2DVisualizer\n",
    "\n",
    "if running_as_notebook:\n",
    "    mpld3.enable_notebook()"
   ]
  },
  {
   "cell_type": "code",
   "execution_count": 2,
   "metadata": {},
   "outputs": [
    {
     "name": "stdout",
     "output_type": "stream",
     "text": [
      "adding quadratic costs: 1\n",
      "adding linear equality constraints: 64\n"
     ]
    },
    {
     "ename": "KeyboardInterrupt",
     "evalue": "",
     "output_type": "error",
     "traceback": [
      "\u001b[0;31m---------------------------------------------------------------------------\u001b[0m",
      "\u001b[0;31mKeyboardInterrupt\u001b[0m                         Traceback (most recent call last)",
      "\u001b[1;32m/Users/savva/Desktop/Codes/gcs/birotor_sdp/testing.ipynb Cell 2\u001b[0m in \u001b[0;36m1\n\u001b[1;32m    <a href='vscode-notebook-cell:/Users/savva/Desktop/Codes/gcs/birotor_sdp/testing.ipynb#W4sZmlsZQ%3D%3D?line=172'>173</a>\u001b[0m \u001b[39mif\u001b[39;00m for_sdp_solver:\n\u001b[1;32m    <a href='vscode-notebook-cell:/Users/savva/Desktop/Codes/gcs/birotor_sdp/testing.ipynb#W4sZmlsZQ%3D%3D?line=173'>174</a>\u001b[0m     timer \u001b[39m=\u001b[39m timeit()\n\u001b[0;32m--> <a href='vscode-notebook-cell:/Users/savva/Desktop/Codes/gcs/birotor_sdp/testing.ipynb#W4sZmlsZQ%3D%3D?line=174'>175</a>\u001b[0m     relaxed_prog, X, basis \u001b[39m=\u001b[39m create_sdp_relaxation(prog, multiply_equality_constraints\u001b[39m=\u001b[39;49mmultiply_equality_constraints, sample_random_equality_constraints\u001b[39m=\u001b[39;49m\u001b[39mFalse\u001b[39;49;00m, sample_percentage\u001b[39m=\u001b[39;49m\u001b[39m0.2\u001b[39;49m)\n\u001b[1;32m    <a href='vscode-notebook-cell:/Users/savva/Desktop/Codes/gcs/birotor_sdp/testing.ipynb#W4sZmlsZQ%3D%3D?line=175'>176</a>\u001b[0m     timer\u001b[39m.\u001b[39mdt(\u001b[39m\"\u001b[39m\u001b[39mSDP generation\u001b[39m\u001b[39m\"\u001b[39m)\n\u001b[1;32m    <a href='vscode-notebook-cell:/Users/savva/Desktop/Codes/gcs/birotor_sdp/testing.ipynb#W4sZmlsZQ%3D%3D?line=176'>177</a>\u001b[0m     relaxed_solution \u001b[39m=\u001b[39m Solve(relaxed_prog)\n",
      "File \u001b[0;32m~/Desktop/Codes/gcs/birotor_sdp/sdp.py:276\u001b[0m, in \u001b[0;36mcreate_sdp_relaxation\u001b[0;34m(prog, use_linear_relaxation, multiply_equality_constraints, sample_random_equality_constraints, sample_percentage)\u001b[0m\n\u001b[1;32m    264\u001b[0m np\u001b[39m.\u001b[39mrandom\u001b[39m.\u001b[39mseed(\u001b[39m1\u001b[39m)\n\u001b[1;32m    267\u001b[0m \u001b[39mfor\u001b[39;00m a \u001b[39min\u001b[39;00m A_eq:\n\u001b[1;32m    268\u001b[0m     \u001b[39m# if sample_random_equality_constraints:\u001b[39;00m\n\u001b[1;32m    269\u001b[0m     \u001b[39m#     num_cons = 1\u001b[39;00m\n\u001b[0;32m   (...)\u001b[0m\n\u001b[1;32m    273\u001b[0m     \u001b[39m#         A = np.outer(a, I[i])\u001b[39;00m\n\u001b[1;32m    274\u001b[0m     \u001b[39m#         relaxed_prog.AddLinearConstraint( np.sum( X * ( A + A.T ) ) == 0 )\u001b[39;00m\n\u001b[0;32m--> 276\u001b[0m     relaxed_prog\u001b[39m.\u001b[39mAddLinearConstraint( eq(A_eq \u001b[39m@\u001b[39;49m X \u001b[39m@\u001b[39;49m A_eq\u001b[39m.\u001b[39;49mT, \u001b[39m0\u001b[39;49m))\n\u001b[1;32m    277\u001b[0m     \u001b[39mfor\u001b[39;00m i \u001b[39min\u001b[39;00m \u001b[39mrange\u001b[39m(num_cons):\n\u001b[1;32m    278\u001b[0m         j \u001b[39m+\u001b[39m\u001b[39m=\u001b[39m \u001b[39m1\u001b[39m\n",
      "File \u001b[0;32m/opt/homebrew/lib/python3.10/site-packages/numpy/lib/function_base.py:2300\u001b[0m, in \u001b[0;36mvectorize.__call__\u001b[0;34m(self, *args, **kwargs)\u001b[0m\n\u001b[1;32m   2297\u001b[0m     \u001b[39melse\u001b[39;00m:\n\u001b[1;32m   2298\u001b[0m         \u001b[39mself\u001b[39m\u001b[39m.\u001b[39m_in_and_out_core_dims \u001b[39m=\u001b[39m \u001b[39mNone\u001b[39;00m\n\u001b[0;32m-> 2300\u001b[0m \u001b[39mdef\u001b[39;00m \u001b[39m__call__\u001b[39m(\u001b[39mself\u001b[39m, \u001b[39m*\u001b[39margs, \u001b[39m*\u001b[39m\u001b[39m*\u001b[39mkwargs):\n\u001b[1;32m   2301\u001b[0m     \u001b[39m\"\"\"\u001b[39;00m\n\u001b[1;32m   2302\u001b[0m \u001b[39m    Return arrays with the results of `pyfunc` broadcast (vectorized) over\u001b[39;00m\n\u001b[1;32m   2303\u001b[0m \u001b[39m    `args` and `kwargs` not in `excluded`.\u001b[39;00m\n\u001b[1;32m   2304\u001b[0m \u001b[39m    \"\"\"\u001b[39;00m\n\u001b[1;32m   2305\u001b[0m     excluded \u001b[39m=\u001b[39m \u001b[39mself\u001b[39m\u001b[39m.\u001b[39mexcluded\n",
      "\u001b[0;31mKeyboardInterrupt\u001b[0m: "
     ]
    }
   ],
   "source": [
    "builder = DiagramBuilder()\n",
    "plant = builder.AddSystem(Quadrotor2D())\n",
    "\n",
    "def get_solution_from_X(N, X, verbose = False):\n",
    "    x_vec = np.real(_get_sol_from_svd(X))[1:]\n",
    "    res = dict()\n",
    "    N1 = N\n",
    "    res[\"x\"] = x_vec[:N1]\n",
    "    res[\"y\"] = x_vec[N1:2*N1]\n",
    "    res[\"th\"] = x_vec[2*N1:3*N1]\n",
    "\n",
    "    res[\"dx\"] = x_vec[3*N1:4*N1]\n",
    "    res[\"dy\"] = x_vec[4*N1:5*N1]\n",
    "    res[\"dth\"] = x_vec[5*N1:6*N1]\n",
    "\n",
    "    res[\"c\"] = x_vec[6*N1:7*N1]\n",
    "    res[\"s\"] = x_vec[7*N1:8*N1]\n",
    "\n",
    "    res[\"dc\"] = x_vec[8*N1:9*N1]\n",
    "    res[\"ds\"] = x_vec[9*N1:10*N1]\n",
    "\n",
    "    res[\"v\"] = x_vec[10*N1:10*N1+N]\n",
    "    res[\"w\"] = x_vec[10*N1+N:10*N1+2*N]\n",
    "    if verbose:\n",
    "        for name in res.keys():\n",
    "            YAY( name, np.round(res[name],2) )\n",
    "\n",
    "    INFO(\"ddy\", (res[\"v\"] + res[\"w\"]) * res[\"c\"] / plant.mass - plant.gravity)\n",
    "    return res\n",
    "\n",
    "\n",
    "\n",
    "\n",
    "\n",
    "def make_a_nonconvex_birotor_program(N, plant, init_pos=np.zeros(2), desired_pos = np.array([2,0]), dt = 0.25, custom_dt_12 = False, for_sdp_solver = False):\n",
    "    # stabilize trajectory using finite horizon LQR? \n",
    "    if custom_dt_12:\n",
    "        N = 12\n",
    "        dt = np.array([ 0.1, 0.1, 0.1,  0.15, 0.15, 0.15,  0.2, 0.2, 0.2,  0.2, 0.2, 0.2 ])\n",
    "\n",
    "    thrust_2_mass_ratio = 3 # 3:1 thrust : mass ratio\n",
    "    r = plant.length\n",
    "    m = plant.mass\n",
    "    I = plant.inertia\n",
    "    g = plant.gravity\n",
    "\n",
    "    Q = np.diag([10, 10, 10,  1, 1, 20,   1, 1,1,1 ])\n",
    "    Qf = Q\n",
    "    R = np.array([[0.1, 0.05], [0.05, 0.1]])\n",
    "\n",
    "\n",
    "    prog = MathematicalProgram()\n",
    "    # define optimization variables\n",
    "    # N+1 timesteps for each state\n",
    "    # x = prog.NewContinuousVariables(N+1, \"x\")\n",
    "    # y = prog.NewContinuousVariables(N+1, \"y\")\n",
    "    # th = prog.NewContinuousVariables(N+1, \"th\")\n",
    "    # dx = prog.NewContinuousVariables(N+1, \"dx\")\n",
    "    # dy = prog.NewContinuousVariables(N+1, \"dy\")\n",
    "    # dth = prog.NewContinuousVariables(N+1, \"dth\")\n",
    "    # c = prog.NewContinuousVariables(N+1, \"c\")\n",
    "    # s = prog.NewContinuousVariables(N+1, \"s\")\n",
    "    x = np.hstack( ([0], prog.NewContinuousVariables(N, \"x\")))\n",
    "    y = np.hstack( ([0], prog.NewContinuousVariables(N, \"y\")))\n",
    "    th = np.hstack( ([0], prog.NewContinuousVariables(N, \"th\")))\n",
    "    dx = np.hstack( ([0], prog.NewContinuousVariables(N, \"dx\")))\n",
    "    dy = np.hstack( ([0], prog.NewContinuousVariables(N, \"dy\")))\n",
    "    dth = np.hstack( ([0], prog.NewContinuousVariables(N, \"dth\")))\n",
    "    c = np.hstack( ([1], prog.NewContinuousVariables(N, \"c\")))\n",
    "    s = np.hstack( ([0], prog.NewContinuousVariables(N, \"s\")))\n",
    "    dc = np.hstack( ([0], prog.NewContinuousVariables(N, \"dc\")))\n",
    "    ds = np.hstack( ([0], prog.NewContinuousVariables(N, \"ds\")))\n",
    "    # N timesteps for control inputs\n",
    "    v = prog.NewContinuousVariables(N, \"v\")\n",
    "    w = prog.NewContinuousVariables(N, \"w\")\n",
    "    # full state and control vectors\n",
    "    z = np.vstack( (x,y,th,dx,dy,dth,c,s,dc,ds)).T\n",
    "\n",
    "    u = np.vstack( (v,w) ).T\n",
    "\n",
    "    if for_sdp_solver:\n",
    "        for n in range(1, N+1):\n",
    "            # oi = 1\n",
    "            prog.AddConstraint( s[n]**2 + c[n]**2 >= 0.99 )\n",
    "            prog.AddConstraint( s[n]**2 + c[n]**2 <= 1.05 )\n",
    "    else:\n",
    "        for n in range(1, N+1):\n",
    "            prog.AddConstraint( s[n]**2 + c[n]**2 >= 0.85 )\n",
    "            prog.AddConstraint( s[n]**2 + c[n]**2 <= 1.1 )\n",
    "        # if solving with nonlinear solver -- relax cos^2 + sin^2 = 1, add bounding boxes\n",
    "        prog.AddBoundingBoxConstraint(-5*np.ones(N),  5*np.ones(N),  x[1:])\n",
    "        prog.AddBoundingBoxConstraint(-5*np.ones(N),  5*np.ones(N),  y[1:])\n",
    "        prog.AddBoundingBoxConstraint( -np.pi*np.ones(N),  np.pi*np.ones(N),  th[1:])\n",
    "        prog.AddBoundingBoxConstraint( -10*np.ones(N),  10*np.ones(N),  dx[1:])\n",
    "        prog.AddBoundingBoxConstraint( -10*np.ones(N),  10*np.ones(N),  dy[1:])\n",
    "        prog.AddBoundingBoxConstraint( -np.pi*np.ones(N),  np.pi*np.ones(N),  dth[1:])\n",
    "\n",
    "    # lower and upper bounds on control inputs\n",
    "    prog.AddBoundingBoxConstraint(0, m*g/2 * thrust_2_mass_ratio, v)\n",
    "    prog.AddBoundingBoxConstraint(0, m*g/2 * thrust_2_mass_ratio, w)\n",
    "\n",
    "    # dynamics\n",
    "    for n in range(N):\n",
    "        prog.AddLinearEqualityConstraint( x[n+1] == x[n] + dt * dx[n]  )\n",
    "        prog.AddLinearEqualityConstraint( y[n+1] == y[n] + dt * dy[n] )\n",
    "        prog.AddLinearEqualityConstraint( th[n+1] == th[n] + dt * dth[n] )\n",
    "        prog.AddLinearEqualityConstraint( dth[n+1] == dth[n] + dt * (v[n] - w[n]) * r / I )\n",
    "        # quadratic constraints\n",
    "        prog.AddConstraint( dx[n+1] == dx[n] + dt * (-(v[n] + w[n]) * s[n] / m) )\n",
    "        prog.AddConstraint( dy[n+1] == dy[n] + dt * ( (v[n] + w[n]) * c[n] / m - g) )\n",
    "        # prog.AddConstraint( c[n+1] == c[n] - dt * dth[n] * s[n] )\n",
    "        # prog.AddConstraint( s[n+1] == s[n] + dt * dth[n] * c[n] )\n",
    "        prog.AddConstraint( c[n+1] == c[n] + dt * dc[n] )\n",
    "        prog.AddConstraint( s[n+1] == s[n] + dt * ds[n] )\n",
    "        prog.AddConstraint( dc[n+1] == dc[n] - dt * ( r/I*(v[n]-w[n])*s[n] + dth[n]*ds[n] ) )\n",
    "        prog.AddConstraint( ds[n+1] == ds[n] + dt * ( r/I*(v[n]-w[n])*c[n] + dth[n]*dc[n] ) )\n",
    "\n",
    "\n",
    "    # desired point\n",
    "    z_star = np.hstack( (desired_pos, np.array([0, 0,0,0, 1,0, 0,0]) ))\n",
    "    u_star = m * g / 2.0 * np.array([1, 1])\n",
    "\n",
    "    # build the cost\n",
    "    cost = 0\n",
    "    for i in range(N):\n",
    "        cost = cost + (z[i]-z_star).dot(Q).dot(z[i]-z_star) + (u[i]-u_star).dot(R).dot(u[i]-u_star)\n",
    "    cost += (z[N]-z_star).dot(Qf).dot(z[N]-z_star)\n",
    "    prog.AddCost(cost)\n",
    "\n",
    "    if for_sdp_solver:\n",
    "        return prog\n",
    "\n",
    "    print(\"Program built.\")\n",
    "    timer = timeit()\n",
    "    solution = Solve(prog)\n",
    "    timer.dt(\"Program solved.\")\n",
    "    \n",
    "    if not solution.is_success():\n",
    "        ERROR(\"solve failed\")\n",
    "    else:\n",
    "        YAY(\"solved!\")\n",
    "    print(solution.get_solver_id())\n",
    "    print(solution.get_optimal_cost())\n",
    "    print(solution.get_solution_result())\n",
    "\n",
    "    INFO( \"x\", np.round(solution.GetSolution(x[1:]),2) )\n",
    "    INFO( \"y\",  np.round(solution.GetSolution(y[1:]),2) )\n",
    "    INFO( \"th\", np.round(solution.GetSolution(th[1:]),2) )\n",
    "    print(\"---\")\n",
    "    INFO( \"dx\", np.round(solution.GetSolution(dx[1:]),2) )\n",
    "    INFO( \"dy\",  np.round(solution.GetSolution(dy[1:]),2) )\n",
    "    INFO( \"dth\", np.round(solution.GetSolution(dth[1:]),2) )\n",
    "    print(\"---\")\n",
    "    INFO( \"c\", np.round(solution.GetSolution(c[1:]),2) )\n",
    "    INFO( \"s\",  np.round(solution.GetSolution(s[1:]),2) )\n",
    "    print(\"---\")\n",
    "    INFO( \"dc\", np.round(solution.GetSolution(dc[1:]),2) )\n",
    "    INFO( \"ds\",  np.round(solution.GetSolution(ds[1:]),2) )\n",
    "    cc = np.round(solution.GetSolution(c[1:]),2) ** 2\n",
    "    ss = np.round(solution.GetSolution(s[1:]),2) ** 2\n",
    "    INFO( \"c2+s2\", cc+ss)\n",
    "    print(\"---\")\n",
    "    INFO( \"v\", np.round(solution.GetSolution(v),2) )\n",
    "    INFO( \"w\",  np.round(solution.GetSolution(w),2) )\n",
    "    return prog, solution\n",
    "    \n",
    "N = 10\n",
    "for_sdp_solver = True\n",
    "multiply_equality_constraints = True\n",
    "\n",
    "prog = make_a_nonconvex_birotor_program(N, plant, dt = 0.2, custom_dt_12 = False, for_sdp_solver = for_sdp_solver)\n",
    "\n",
    "if for_sdp_solver:\n",
    "    timer = timeit()\n",
    "    relaxed_prog, X, basis = create_sdp_relaxation(prog, multiply_equality_constraints=multiply_equality_constraints, sample_random_equality_constraints=False, sample_percentage=0.2)\n",
    "    timer.dt(\"SDP generation\")\n",
    "    relaxed_solution = Solve(relaxed_prog)\n",
    "    timer.dt(\"SDP solving\")\n",
    "    print(\"---\")\n",
    "    print(relaxed_solution.is_success())\n",
    "    print(relaxed_solution.get_optimal_cost())\n",
    "    print(relaxed_solution.get_solution_result())\n",
    "    X_val = relaxed_solution.GetSolution(X)\n",
    "    eigenvals, _ = np.linalg.eig(X_val)    \n",
    "    print(\"matrix shape\", X_val.shape)\n",
    "    print(\"Matrix rank\", np.sum(eigenvals>1e-4))\n",
    "    res = get_solution_from_X(N, X_val, verbose=True)\n",
    "    "
   ]
  },
  {
   "cell_type": "code",
   "execution_count": 6,
   "metadata": {},
   "outputs": [
    {
     "data": {
      "text/plain": [
       "array([ 1.000e+00, -0.000e+00,  0.000e+00,  2.400e-01,  5.920e-01,\n",
       "        7.810e-01,  8.820e-01,  9.370e-01,  9.660e-01,  9.810e-01,\n",
       "        9.890e-01,  9.920e-01,  0.000e+00,  0.000e+00, -3.100e-02,\n",
       "       -1.700e-02, -9.000e-03, -5.000e-03, -3.000e-03, -1.000e-03,\n",
       "       -1.000e-03, -0.000e+00, -0.000e+00, -0.000e+00,  0.000e+00,\n",
       "        0.000e+00,  0.000e+00,  0.000e+00,  0.000e+00,  0.000e+00,\n",
       "        0.000e+00,  0.000e+00,  0.000e+00,  0.000e+00, -0.000e+00,\n",
       "        1.200e+00,  1.761e+00,  9.450e-01,  5.070e-01,  2.720e-01,\n",
       "        1.450e-01,  7.700e-02,  3.900e-02,  1.600e-02,  0.000e+00,\n",
       "        0.000e+00, -1.560e-01,  7.200e-02,  3.900e-02,  2.100e-02,\n",
       "        1.100e-02,  6.000e-03,  3.000e-03,  2.000e-03,  1.000e-03,\n",
       "       -0.000e+00, -4.000e-03, -0.000e+00, -0.000e+00, -0.000e+00,\n",
       "       -0.000e+00, -0.000e+00, -0.000e+00, -0.000e+00, -0.000e+00,\n",
       "       -0.000e+00,  0.000e+00,  1.019e+00,  9.980e-01,  9.750e-01,\n",
       "        9.750e-01,  9.750e-01,  9.750e-01,  9.750e-01,  9.750e-01,\n",
       "        9.750e-01,  9.750e-01,  9.750e-01, -1.350e-01, -0.000e+00,\n",
       "       -0.000e+00,  0.000e+00, -0.000e+00,  0.000e+00,  0.000e+00,\n",
       "        0.000e+00, -0.000e+00,  0.000e+00,  0.000e+00,  2.775e+00,\n",
       "        1.192e+00,  1.192e+00,  1.192e+00,  1.192e+00,  1.192e+00,\n",
       "        1.192e+00,  1.192e+00,  1.192e+00,  1.192e+00,  2.775e+00,\n",
       "        1.192e+00,  1.192e+00,  1.192e+00,  1.192e+00,  1.192e+00,\n",
       "        1.192e+00,  1.192e+00,  1.192e+00,  1.192e+00])"
      ]
     },
     "execution_count": 6,
     "metadata": {},
     "output_type": "execute_result"
    }
   ],
   "source": []
  },
  {
   "cell_type": "code",
   "execution_count": 7,
   "metadata": {},
   "outputs": [
    {
     "data": {
      "text/plain": [
       "array([ 1.  , -0.  , -0.  ,  0.09, -0.  , -0.  , -0.1 , -0.  ,  0.  ,\n",
       "        0.  ,  0.  ,  0.43, -0.  , -0.  , -0.51, -0.  ,  0.  ,  0.  ,\n",
       "        0.  ,  0.59,  0.59,  0.5 , -0.17, -0.17,  0.  ,  3.  ,  1.19,\n",
       "        3.  ,  1.19])"
      ]
     },
     "execution_count": 7,
     "metadata": {},
     "output_type": "execute_result"
    }
   ],
   "source": []
  },
  {
   "cell_type": "code",
   "execution_count": 16,
   "metadata": {},
   "outputs": [
    {
     "name": "stdout",
     "output_type": "stream",
     "text": [
      "\u001b[34m0.000s since last time-check\n"
     ]
    },
    {
     "data": {
      "text/plain": [
       "5.888938903808594e-05"
      ]
     },
     "execution_count": 16,
     "metadata": {},
     "output_type": "execute_result"
    }
   ],
   "source": [
    "I = np.eye(100)\n",
    "timer = timeit()\n",
    "np.outer(I[0],I[0])\n",
    "# I[0].reshape(100,1) @ I[0].reshape(100,1).T\n",
    "timer.dt()"
   ]
  },
  {
   "cell_type": "code",
   "execution_count": 48,
   "metadata": {},
   "outputs": [
    {
     "name": "stdout",
     "output_type": "stream",
     "text": [
      "(59, 59)\n",
      "35\n"
     ]
    }
   ],
   "source": []
  },
  {
   "cell_type": "code",
   "execution_count": 8,
   "metadata": {},
   "outputs": [],
   "source": [
    "x_val = X_val[:, 0]\n",
    "rounded_sols = np.round(np.real(_get_sol_from_svd(X_val)),3)"
   ]
  },
  {
   "cell_type": "code",
   "execution_count": 9,
   "metadata": {},
   "outputs": [
    {
     "data": {
      "text/plain": [
       "array([ 1.   , -0.   , -0.   ,  0.086, -0.   , -0.   , -0.102,  0.   ,\n",
       "        0.   ,  0.   ,  0.   ,  0.428, -0.   , -0.   , -0.508, -0.   ,\n",
       "        0.   ,  0.   ,  0.   ,  0.588,  0.588,  0.5  , -0.173, -0.173,\n",
       "        0.   ,  3.005,  1.192,  3.005,  1.192])"
      ]
     },
     "execution_count": 9,
     "metadata": {},
     "output_type": "execute_result"
    }
   ],
   "source": [
    "rounded_sols"
   ]
  },
  {
   "cell_type": "code",
   "execution_count": 55,
   "metadata": {},
   "outputs": [
    {
     "name": "stdout",
     "output_type": "stream",
     "text": [
      "3.3079570089680914e-13\n",
      "4.636539446151489\n"
     ]
    }
   ],
   "source": [
    "# does the c+s constraint not hold\n",
    "N2+=1\n",
    "print( X_val[N2+5*N1,N2+5*N1] )\n",
    "print( X_val[N2+6*N1,N2+6*N1] )"
   ]
  },
  {
   "cell_type": "code",
   "execution_count": 56,
   "metadata": {},
   "outputs": [
    {
     "name": "stdout",
     "output_type": "stream",
     "text": [
      "x [-0.    -0.    -0.     0.447  0.672  0.765]\n",
      "y [-0.    -0.    -0.038 -0.021 -0.012 -0.009]\n",
      "th [-0.  0.  0.  0.  0.  0.]\n",
      "dx [-0.    -0.     2.233  1.126  0.469  0.   ]\n",
      "dy [-0.    -0.19   0.085  0.043  0.018  0.   ]\n",
      "dth [ 0.  0. -0.  0. -0.  0.]\n",
      "c [1.  1.  0.5 0.5 0.5 0.5]\n",
      "s [ 0.  0. -0. -0. -0.  0.]\n",
      "v [2.153 1.192 1.192 1.192 1.192]\n",
      "w [2.153 1.192 1.192 1.192 1.192]\n"
     ]
    }
   ],
   "source": [
    "N = 5\n",
    "N1 = 6\n",
    "N2 = 7\n",
    "print(\"x\", rounded_sols[1:N2])\n",
    "print(\"y\", rounded_sols[N2: N2+N1])\n",
    "print(\"th\", rounded_sols[N2+N1: N2+2*N1])\n",
    "print(\"dx\", rounded_sols[N2+2*N1: N2+3*N1])\n",
    "print(\"dy\", rounded_sols[N2+3*N1: N2+4*N1])\n",
    "print(\"dth\", rounded_sols[N2+4*N1: N2+5*N1])\n",
    "print(\"c\", rounded_sols[N2+5*N1: N2+6*N1])\n",
    "print(\"s\", rounded_sols[N2+6*N1: N2+7*N1])\n",
    "print(\"v\", rounded_sols[N2+7*N1: N2+7*N1+N])\n",
    "print(\"w\", rounded_sols[N2+7*N1+N: N2+7*N1+2*N])"
   ]
  },
  {
   "cell_type": "code",
   "execution_count": 27,
   "metadata": {},
   "outputs": [
    {
     "data": {
      "text/plain": [
       "array([<Monomial \"1\">, <Monomial \"x(0)\">, <Monomial \"x(1)\">, ...,\n",
       "       <Monomial \"w(3)^2\">, <Monomial \"w(3) * w(4)\">, <Monomial \"w(4)^2\">],\n",
       "      dtype=object)"
      ]
     },
     "execution_count": 27,
     "metadata": {},
     "output_type": "execute_result"
    }
   ],
   "source": [
    "# x [ 0.    0.   -0.   -0.    0.14  0.36]\n",
    "# y [ 0.    0.   -0.01 -0.13 -0.01  0.06]\n",
    "# th [ 0.   -0.   -0.22 -0.22 -0.22 -0.22]\n",
    "# ---\n",
    "# dx [-0.   -0.   -0.    0.72  1.09  1.43]\n",
    "# dy [-0.   -0.05 -0.61  0.62  0.32 -0.12]\n",
    "# dth [-0.   -1.12  0.    0.   -0.   -0.  ]\n",
    "# ---\n",
    "# v [2.28 1.74 3.89 2.01 1.85]\n",
    "# w [2.37 1.65 3.89 2.01 1.85]"
   ]
  },
  {
   "cell_type": "code",
   "execution_count": 41,
   "metadata": {},
   "outputs": [
    {
     "data": {
      "text/plain": [
       "array([ 1.   , -0.   , -0.   , -0.   ,  0.447,  0.672,  0.765, -0.   ,\n",
       "       -0.   , -0.038, -0.021, -0.012, -0.009, -0.   ,  0.   ,  0.   ,\n",
       "        0.   ,  0.   ,  0.   , -0.   , -0.   ,  2.233,  1.126,  0.469,\n",
       "        0.   , -0.   , -0.19 ,  0.085,  0.043,  0.018,  0.   ,  0.   ,\n",
       "        0.   , -0.   ,  0.   , -0.   ,  0.   ,  1.   ,  1.   ,  0.5  ,\n",
       "        0.5  ,  0.5  ,  0.5  ,  0.   ,  0.   , -0.   , -0.   , -0.   ,\n",
       "        0.   ,  2.153,  1.192,  1.192,  1.192,  1.192,  2.153,  1.192,\n",
       "        1.192,  1.192,  1.192])"
      ]
     },
     "execution_count": 41,
     "metadata": {},
     "output_type": "execute_result"
    }
   ],
   "source": [
    "rounded_sols"
   ]
  },
  {
   "cell_type": "code",
   "execution_count": 61,
   "metadata": {},
   "outputs": [
    {
     "data": {
      "text/plain": [
       "0.9682458365518543"
      ]
     },
     "execution_count": 61,
     "metadata": {},
     "output_type": "execute_result"
    }
   ],
   "source": [
    "np.sqrt(1-0.25*0.25)"
   ]
  },
  {
   "cell_type": "code",
   "execution_count": 3,
   "metadata": {},
   "outputs": [
    {
     "ename": "SyntaxError",
     "evalue": "invalid syntax (3361561313.py, line 29)",
     "output_type": "error",
     "traceback": [
      "\u001b[0;36m  Cell \u001b[0;32mIn [3], line 29\u001b[0;36m\u001b[0m\n\u001b[0;31m    return self.X[i][]\u001b[0m\n\u001b[0m                     ^\u001b[0m\n\u001b[0;31mSyntaxError\u001b[0m\u001b[0;31m:\u001b[0m invalid syntax\n"
     ]
    }
   ],
   "source": [
    "class BirotorChordalProgBuilder:\n",
    "    def __init__(self, N = 5, dt = 0.2, init_pos=[0,0], final_pos=[2,0]):\n",
    "        # define constants\n",
    "        self.thrust_2_mass_ratio = 3 # 3:1 thrust : mass ratio\n",
    "        builder = DiagramBuilder()\n",
    "        plant = builder.AddSystem(Quadrotor2D())\n",
    "        self.r = plant.length\n",
    "        self.m = plant.mass\n",
    "        self.I = plant.inertia\n",
    "        self.g = plant.gravity\n",
    "        self.dt = dt\n",
    "\n",
    "        # define cost matrices\n",
    "        self.Q = np.array([0, 10, 10, 10,  1, 1, (self.r / 2.0 / np.pi),  10, 10 ])\n",
    "        self.Qf = self.Q\n",
    "        # self.R = np.array([[0.1, 0.05], [0.05, 0.1]])\n",
    "        self.R1 = 0.1\n",
    "        self.R12 = 0.05\n",
    "\n",
    "        # initial / final conditions\n",
    "        self.init_pos = init_pos\n",
    "        self.final_pos = final_pos\n",
    "        \n",
    "        self.N = N\n",
    "        self.n = 8\n",
    "        self.m = 2\n",
    "        self.d = self.n + self.m\n",
    "        self.prog = MathematicalProgram()\n",
    "        self.init_vars()\n",
    "        self.add_dynamics()\n",
    "\n",
    "\n",
    "    def init_vars(self):\n",
    "        # define N d x d matrices: timesteps 0 through N-1\n",
    "        self.X = []\n",
    "        for i in range(self.N):\n",
    "            # define a psd matrix\n",
    "            mat = self.prog.NewSymmetricContinuousVariables(self.d+1, \"X\"+str(i))\n",
    "            self.prog.AddPositiveSemidefiniteConstraint(prog)\n",
    "            # X00 is 1\n",
    "            self.prog.AddLinearConstraint( mat[0,0] == 1 )\n",
    "            self.X.append(mat)\n",
    "\n",
    "        # timestep N\n",
    "        mat = self.prog.NewSymmetricContinuousVariables(self.n+1, \"X\"+str(N))\n",
    "        self.prog.AddPositiveSemidefiniteConstraint(prog)\n",
    "        self.prog.AddLinearConstraint( mat[0,0] == 1 )\n",
    "        self.X.append( mat )\n",
    "\n",
    "    def zero(self, expr):\n",
    "        self.prog.AddLinearConstraint( eq(expr,0) )\n",
    "\n",
    "    def pos(self, expr):\n",
    "        self.prog.AddLinearConstraint( ge(expr, 0) )\n",
    "\n",
    "    def neg(self, expr):\n",
    "        self.prog.AddLinearConstraint( le(expr, 0) )\n",
    "\n",
    "    def box(self, lb, ub, expr):\n",
    "        self.prog.AddLinearConstraint( le(expr, ub) )\n",
    "        self.prog.AddLinearConstraint( le(lb, expr) )\n",
    "\n",
    "    def add_dynamics(self):\n",
    "        r, m, I, g, dt = self.r, self.m, self.I, self.g, self.dt\n",
    "        # add dynamics\n",
    "        for n in range(self.N):\n",
    "            self.zero(-self.x(n+1) + self.x(n) + dt * self.dx(n))\n",
    "            self.zero(-self.y(n+1) + self.y(n) + dt * self.dy(n))\n",
    "            self.zero(-self.th(n+1) + self.th(n) + dt * self.dth(n) )\n",
    "            self.zero(-self.dx(n+1) + self.dx(n) - self.vs(n)*dt/m - self.ws(n)*dt/m )\n",
    "            self.zero(-self.dy(n+1) + self.dy(n) + self.vc(n)*dt/m + self.wc(n)*dt/m - self.one(n)*g*dt )\n",
    "            self.zero(-self.dth(n+1) + self.dth(n) + self.v(n)*dt*r/I - self.w(n)*dt*r/I )\n",
    "            self.zero(-self.c(n+1) + self.c(n) - dt * self.dths(n) )\n",
    "            self.zero(-self.s(n+1) + self.s(n) + dt * self.dthc(n) )\n",
    "\n",
    "    def add_control_bounds(self):\n",
    "        m, g, thrust_2_mass_ratio = self.m, self.g, self.thrust_2_mass_ratio\n",
    "        for n in range(self.N):\n",
    "            self.box( 0, m*g/2 * thrust_2_mass_ratio, self.v(n) )\n",
    "            self.box( 0, m*g/2 * thrust_2_mass_ratio, self.w(n) )\n",
    "\n",
    "    \n",
    "\n",
    "    # variable ordering shenanigans\n",
    "    # variable ordering in the matrices is:\n",
    "    # 0 -- 1\n",
    "    # 1 -- x\n",
    "    # 2 -- y\n",
    "    # 3 -- th\n",
    "    # 4 -- dx\n",
    "    # 5 -- dy\n",
    "    # 6 -- dth\n",
    "    # 7 -- c\n",
    "    # 8 -- s\n",
    "    # 9 -- v\n",
    "    #10 -- w\n",
    "\n",
    "    def one(self,i): return self.X[i][0,0]\n",
    "    def x(self, i): return self.X[i][0,1]\n",
    "    def y(self, i): return self.X[i][0,2]\n",
    "    def th(self, i): return self.X[i][0,3]\n",
    "    def dx(self, i): return self.X[i][0,4]\n",
    "    def dy(self, i): return self.X[i][0,5]\n",
    "    def dth(self, i): return self.X[i][0,6]\n",
    "    def c(self, i): return self.X[i][0,7]\n",
    "    def s(self, i): return self.X[i][0,8]\n",
    "    def v(self, i): return self.X[i][0,9]\n",
    "    def w(self, i): return self.X[i][0,10]\n",
    "\n",
    "    def xx(self, i): return self.X[i][1,1]\n",
    "    def yy(self, i): return self.X[i][2,2]\n",
    "    def thth(self, i): return self.X[i][3,3]\n",
    "    def dxdx(self, i): return self.X[i][4,4]\n",
    "    def dydy(self, i): return self.X[i][5,5]\n",
    "    def dthdth(self, i): return self.X[i][6,6]\n",
    "    def cc(self, i): return self.X[i][7,7]\n",
    "    def ss(self, i): return self.X[i][8,8]\n",
    "    def vv(self, i): return self.X[i][9,9]\n",
    "    def ww(self, i): return self.X[i][10,10]\n",
    "\n",
    "    def vs(self, i):return self.X[i][9,8]\n",
    "    def ws(self, i):return self.X[i][10,8]\n",
    "\n",
    "    def vc(self, i):return self.X[i][9,7]\n",
    "    def wc(self, i):return self.X[i][10,7]\n",
    "\n",
    "    def dths(self, i):return self.X[i][6,8]\n",
    "    def dthc(self, i):return self.X[i][6,7]\n",
    "\n",
    "    def wv(self, i):return self.X[i][10,9]\n",
    "    def vw(self, i):return self.X[i][10,9]\n",
    "    \n",
    "\n",
    "        \n",
    "\n",
    "\n",
    "\n",
    "\n",
    "\n"
   ]
  },
  {
   "cell_type": "code",
   "execution_count": 34,
   "metadata": {},
   "outputs": [
    {
     "data": {
      "text/plain": [
       "(2500, 2500)"
      ]
     },
     "execution_count": 34,
     "metadata": {},
     "output_type": "execute_result"
    }
   ],
   "source": [
    "from numpy.core.umath_tests import inner1d\n",
    "prog = MathematicalProgram()\n",
    "n = 50\n",
    "X = prog.NewSymmetricContinuousVariables(n)\n",
    "x = X.flatten()\n",
    "a = np.random.random((n,1))\n",
    "timer = timeit()\n",
    "A = []\n",
    "for i in range(n):\n",
    "    ei = np.zeros((n,1))\n",
    "    ei[i] = 1\n",
    "    A.append((ei @ a.T + a @ ei.T).flatten())\n",
    "    # print(A.shape)\n",
    "    # A.dot(x)\n",
    "    # prog.AddLinearEqualityConstraint( e = A.dot(x), b = 0)\n",
    "    # print(A)\n",
    "    # print(\"---\")\n",
    "    # prog.AddLinearEqualityConstraint( e = np.sum(A * X), b = 0)\n",
    "\n",
    "A = np.array(A)\n",
    "(A.T @ A).shape\n",
    "# print( (A.dot(x)).shape )\n",
    "# prog.AddLinearEqualityConstraint( e = A.dot(x), b = np.zeros((n,1)))\n",
    "# print(A.shape)\n",
    "# timer.dt()"
   ]
  },
  {
   "cell_type": "code",
   "execution_count": 38,
   "metadata": {},
   "outputs": [
    {
     "name": "stdout",
     "output_type": "stream",
     "text": [
      "True\n",
      "SolutionResult.kSolutionFound\n"
     ]
    },
    {
     "data": {
      "text/plain": [
       "array([0.00059368, 0.00051365, 0.00054383, ..., 0.00044684, 0.0004761 ,\n",
       "       0.00045649])"
      ]
     },
     "execution_count": 38,
     "metadata": {},
     "output_type": "execute_result"
    }
   ],
   "source": [
    "prog = MathematicalProgram()\n",
    "n = 30\n",
    "m = 20\n",
    "X11 = prog.NewSymmetricContinuousVariables(n, \"X11\")\n",
    "X22 = prog.NewSymmetricContinuousVariables(m, \"X22\")\n",
    "X33 = prog.NewSymmetricContinuousVariables(n, \"X33\")\n",
    "\n",
    "X12 = prog.NewContinuousVariables(n,m,\"X12\")\n",
    "X23 = prog.NewContinuousVariables(m,n,\"X23\")\n",
    "\n",
    "X1 = np.vstack((np.hstack((X11,X12)), np.hstack((X12.T, X22))))\n",
    "X3 = np.vstack((np.hstack((X22,X23)), np.hstack((X23.T, X33))))\n",
    "prog.AddPositiveSemidefiniteConstraint(X1)\n",
    "prog.AddPositiveSemidefiniteConstraint(X3)\n",
    "\n",
    "A1 = np.random.random((n+m,n+m))\n",
    "b1 = np.random.random()\n",
    "A3 = np.random.random((n+m,n+m))\n",
    "b3 = np.random.random()\n",
    "prog.AddLinearConstraint( np.sum(A1 * X1) == b1 ) \n",
    "prog.AddLinearConstraint( np.sum(A3 * X3) == b3 ) \n",
    "\n",
    "prog.AddLinearCost( np.trace(X1) )\n",
    "prog.AddLinearCost( np.trace(X3) )\n",
    "\n",
    "timer.dt()\n",
    "solution = Solve(prog)\n",
    "print(solution.is_success())\n",
    "print(solution.get_solution_result())\n",
    "\n",
    "solution."
   ]
  },
  {
   "cell_type": "code",
   "execution_count": 41,
   "metadata": {},
   "outputs": [
    {
     "data": {
      "text/plain": [
       "(2340,)"
      ]
     },
     "execution_count": 41,
     "metadata": {},
     "output_type": "execute_result"
    }
   ],
   "source": [
    "solution.get_x_val().shape"
   ]
  },
  {
   "cell_type": "code",
   "execution_count": 43,
   "metadata": {},
   "outputs": [
    {
     "data": {
      "text/plain": [
       "2340.0"
      ]
     },
     "execution_count": 43,
     "metadata": {},
     "output_type": "execute_result"
    }
   ],
   "source": [
    "30*31/2*2 + 20*21/2 + 30*20*2"
   ]
  },
  {
   "cell_type": "code",
   "execution_count": null,
   "metadata": {},
   "outputs": [],
   "source": []
  }
 ],
 "metadata": {
  "kernelspec": {
   "display_name": "Python 3",
   "language": "python",
   "name": "python3"
  },
  "language_info": {
   "codemirror_mode": {
    "name": "ipython",
    "version": 3
   },
   "file_extension": ".py",
   "mimetype": "text/x-python",
   "name": "python",
   "nbconvert_exporter": "python",
   "pygments_lexer": "ipython3",
   "version": "3.10.8"
  },
  "orig_nbformat": 4
 },
 "nbformat": 4,
 "nbformat_minor": 2
}
